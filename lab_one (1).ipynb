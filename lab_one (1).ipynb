{
  "nbformat": 4,
  "nbformat_minor": 0,
  "metadata": {
    "colab": {
      "provenance": []
    },
    "kernelspec": {
      "name": "python3",
      "display_name": "Python 3"
    },
    "language_info": {
      "name": "python"
    }
  },
  "cells": [
    {
      "cell_type": "markdown",
      "source": [
        "Basic Setup of Pyspark.\n"
      ],
      "metadata": {
        "id": "axYnPqw3s0HH"
      }
    },
    {
      "cell_type": "code",
      "execution_count": null,
      "metadata": {
        "colab": {
          "base_uri": "https://localhost:8080/"
        },
        "id": "td6Pm5Nlnqdb",
        "outputId": "9b6c504d-78d0-4dde-98f8-665baf4b0671"
      },
      "outputs": [
        {
          "output_type": "stream",
          "name": "stdout",
          "text": [
            "Collecting pyspark\n",
            "  Downloading pyspark-3.5.3.tar.gz (317.3 MB)\n",
            "\u001b[2K     \u001b[90m━━━━━━━━━━━━━━━━━━━━━━━━━━━━━━━━━━━━━━━━\u001b[0m \u001b[32m317.3/317.3 MB\u001b[0m \u001b[31m1.5 MB/s\u001b[0m eta \u001b[36m0:00:00\u001b[0m\n",
            "\u001b[?25h  Preparing metadata (setup.py) ... \u001b[?25l\u001b[?25hdone\n",
            "Requirement already satisfied: py4j==0.10.9.7 in /usr/local/lib/python3.10/dist-packages (from pyspark) (0.10.9.7)\n",
            "Building wheels for collected packages: pyspark\n",
            "  Building wheel for pyspark (setup.py) ... \u001b[?25l\u001b[?25hdone\n",
            "  Created wheel for pyspark: filename=pyspark-3.5.3-py2.py3-none-any.whl size=317840625 sha256=572f26ce1230327ca10bf945e6eeb7aa23305b28384a4242aecd03227d5220cd\n",
            "  Stored in directory: /root/.cache/pip/wheels/1b/3a/92/28b93e2fbfdbb07509ca4d6f50c5e407f48dce4ddbda69a4ab\n",
            "Successfully built pyspark\n",
            "Installing collected packages: pyspark\n",
            "Successfully installed pyspark-3.5.3\n"
          ]
        }
      ],
      "source": [
        "# install dependancies\n",
        "!pip install pyspark\n"
      ]
    },
    {
      "cell_type": "code",
      "source": [
        "# Install findspark\n",
        "!pip install findspark"
      ],
      "metadata": {
        "colab": {
          "base_uri": "https://localhost:8080/"
        },
        "id": "naHPi1HZpaQE",
        "outputId": "42702845-40ed-4892-8e70-30e020039e68"
      },
      "execution_count": null,
      "outputs": [
        {
          "output_type": "stream",
          "name": "stdout",
          "text": [
            "Collecting findspark\n",
            "  Downloading findspark-2.0.1-py2.py3-none-any.whl.metadata (352 bytes)\n",
            "Downloading findspark-2.0.1-py2.py3-none-any.whl (4.4 kB)\n",
            "Installing collected packages: findspark\n",
            "Successfully installed findspark-2.0.1\n"
          ]
        }
      ]
    },
    {
      "cell_type": "code",
      "source": [
        "# 1. Initialize Findspark:\n",
        "import findspark\n",
        "findspark.init()\n"
      ],
      "metadata": {
        "id": "6bOPgW2Mpm2F"
      },
      "execution_count": null,
      "outputs": []
    },
    {
      "cell_type": "code",
      "source": [
        "# Create a Spark Session:\n",
        "from pyspark.sql import SparkSession\n",
        "spark = SparkSession.builder.appName(\"BasicQuery\").getOrCreate()\n",
        "\n"
      ],
      "metadata": {
        "id": "ATCXj5V-pu7W"
      },
      "execution_count": null,
      "outputs": []
    },
    {
      "cell_type": "code",
      "source": [
        "# Perform a Basic Query:\n",
        "data = [(\"James\", \"Smith\"), (\"Anna\", \"Rose\"), (\"Robert\", \"Williams\")]\n",
        "columns = [\"firstname\", \"lastname\"]\n",
        "df = spark.createDataFrame(data, columns)\n",
        "df.show()\n"
      ],
      "metadata": {
        "colab": {
          "base_uri": "https://localhost:8080/"
        },
        "id": "b0A0jZyAp2nt",
        "outputId": "c5e24a18-5f42-4788-9d87-10303749c3b6"
      },
      "execution_count": null,
      "outputs": [
        {
          "output_type": "stream",
          "name": "stdout",
          "text": [
            "+---------+--------+\n",
            "|firstname|lastname|\n",
            "+---------+--------+\n",
            "|    James|   Smith|\n",
            "|     Anna|    Rose|\n",
            "|   Robert|Williams|\n",
            "+---------+--------+\n",
            "\n"
          ]
        }
      ]
    },
    {
      "cell_type": "code",
      "source": [
        "# Define a Schema and Filter Query Results\n",
        "# Define a Schema:\n",
        "from pyspark.sql.types import StructType, StructField, StringType\n",
        "schema = StructType([\n",
        " StructField(\"firstname\", StringType(), True),\n",
        " StructField(\"lastname\", StringType(), True)\n",
        "])\n",
        "data = [(\"James\", \"Smith\"), (\"Anna\", \"Rose\"), (\"Robert\", \"Williams\")]\n",
        "df = spark.createDataFrame(data, schema=schema)\n",
        "df.show()\n"
      ],
      "metadata": {
        "colab": {
          "base_uri": "https://localhost:8080/"
        },
        "id": "dmxjthqKqIcc",
        "outputId": "f22c7e25-73f4-4e35-c053-7acb25c23168"
      },
      "execution_count": null,
      "outputs": [
        {
          "output_type": "stream",
          "name": "stdout",
          "text": [
            "+---------+--------+\n",
            "|firstname|lastname|\n",
            "+---------+--------+\n",
            "|    James|   Smith|\n",
            "|     Anna|    Rose|\n",
            "|   Robert|Williams|\n",
            "+---------+--------+\n",
            "\n"
          ]
        }
      ]
    },
    {
      "cell_type": "code",
      "source": [
        "# Filter Query Results:\n",
        "filtered_df = df.filter(df.firstname == \"James\")\n",
        "filtered_df.show()\n"
      ],
      "metadata": {
        "colab": {
          "base_uri": "https://localhost:8080/"
        },
        "id": "OkS0fVASqOQP",
        "outputId": "285389a4-b5a6-431b-dad5-c2ed27abb384"
      },
      "execution_count": null,
      "outputs": [
        {
          "output_type": "stream",
          "name": "stdout",
          "text": [
            "+---------+--------+\n",
            "|firstname|lastname|\n",
            "+---------+--------+\n",
            "|    James|   Smith|\n",
            "+---------+--------+\n",
            "\n"
          ]
        }
      ]
    },
    {
      "cell_type": "code",
      "source": [
        "#  Create a Catalog\n",
        "#  Create a Database:\n",
        "spark.sql(\"CREATE DATABASE IF NOT EXISTS example_db\")"
      ],
      "metadata": {
        "colab": {
          "base_uri": "https://localhost:8080/"
        },
        "id": "yfYmLP5Rqf48",
        "outputId": "fa4790e5-d5bb-474e-c23c-845dedb4f7aa"
      },
      "execution_count": null,
      "outputs": [
        {
          "output_type": "execute_result",
          "data": {
            "text/plain": [
              "DataFrame[]"
            ]
          },
          "metadata": {},
          "execution_count": 10
        }
      ]
    },
    {
      "cell_type": "code",
      "source": [
        "# Create a Table:\n",
        "df.write.mode(\"overwrite\").saveAsTable(\"example_db.names\")"
      ],
      "metadata": {
        "id": "vpDY-gPTqqaD"
      },
      "execution_count": null,
      "outputs": []
    },
    {
      "cell_type": "code",
      "source": [
        "#  Show Tables:\n",
        "spark.sql(\"SHOW TABLES IN example_db\").show()"
      ],
      "metadata": {
        "colab": {
          "base_uri": "https://localhost:8080/"
        },
        "id": "n1oSbay6qxga",
        "outputId": "d24bb9ac-1468-462d-dbb5-7a63eb0184ec"
      },
      "execution_count": null,
      "outputs": [
        {
          "output_type": "stream",
          "name": "stdout",
          "text": [
            "+----------+---------+-----------+\n",
            "| namespace|tableName|isTemporary|\n",
            "+----------+---------+-----------+\n",
            "|example_db|    names|      false|\n",
            "+----------+---------+-----------+\n",
            "\n"
          ]
        }
      ]
    },
    {
      "cell_type": "code",
      "source": [
        "# Query Data with Apache Spark\n",
        "#  Run SQL Queries:\n",
        "result = spark.sql(\"SELECT * FROM example_db.names WHERE firstname = 'James'\")\n",
        "result.show()\n"
      ],
      "metadata": {
        "colab": {
          "base_uri": "https://localhost:8080/"
        },
        "id": "OmyoOZIYq401",
        "outputId": "86b6c754-d4b3-4104-f521-10115a68cda1"
      },
      "execution_count": null,
      "outputs": [
        {
          "output_type": "stream",
          "name": "stdout",
          "text": [
            "+---------+--------+\n",
            "|firstname|lastname|\n",
            "+---------+--------+\n",
            "|    James|   Smith|\n",
            "+---------+--------+\n",
            "\n"
          ]
        }
      ]
    },
    {
      "cell_type": "code",
      "source": [
        "import matplotlib.pyplot as plt\n",
        "pandas_df = result.toPandas()\n",
        "pandas_df.plot(kind='bar', x='firstname', y='lastname')\n",
        "plt.show()"
      ],
      "metadata": {
        "colab": {
          "base_uri": "https://localhost:8080/",
          "height": 339
        },
        "id": "mOyT61aHr2M8",
        "outputId": "0597e6b0-6449-4c6d-9b1a-f0353daedbb3"
      },
      "execution_count": null,
      "outputs": [
        {
          "output_type": "error",
          "ename": "TypeError",
          "evalue": "no numeric data to plot",
          "traceback": [
            "\u001b[0;31m---------------------------------------------------------------------------\u001b[0m",
            "\u001b[0;31mTypeError\u001b[0m                                 Traceback (most recent call last)",
            "\u001b[0;32m<ipython-input-17-75c6dd0807f4>\u001b[0m in \u001b[0;36m<cell line: 3>\u001b[0;34m()\u001b[0m\n\u001b[1;32m      1\u001b[0m \u001b[0;32mimport\u001b[0m \u001b[0mmatplotlib\u001b[0m\u001b[0;34m.\u001b[0m\u001b[0mpyplot\u001b[0m \u001b[0;32mas\u001b[0m \u001b[0mplt\u001b[0m\u001b[0;34m\u001b[0m\u001b[0;34m\u001b[0m\u001b[0m\n\u001b[1;32m      2\u001b[0m \u001b[0mpandas_df\u001b[0m \u001b[0;34m=\u001b[0m \u001b[0mresult\u001b[0m\u001b[0;34m.\u001b[0m\u001b[0mtoPandas\u001b[0m\u001b[0;34m(\u001b[0m\u001b[0;34m)\u001b[0m\u001b[0;34m\u001b[0m\u001b[0;34m\u001b[0m\u001b[0m\n\u001b[0;32m----> 3\u001b[0;31m \u001b[0mpandas_df\u001b[0m\u001b[0;34m.\u001b[0m\u001b[0mplot\u001b[0m\u001b[0;34m(\u001b[0m\u001b[0mkind\u001b[0m\u001b[0;34m=\u001b[0m\u001b[0;34m'bar'\u001b[0m\u001b[0;34m,\u001b[0m \u001b[0mx\u001b[0m\u001b[0;34m=\u001b[0m\u001b[0;34m'firstname'\u001b[0m\u001b[0;34m,\u001b[0m \u001b[0my\u001b[0m\u001b[0;34m=\u001b[0m\u001b[0;34m'lastname'\u001b[0m\u001b[0;34m)\u001b[0m\u001b[0;34m\u001b[0m\u001b[0;34m\u001b[0m\u001b[0m\n\u001b[0m\u001b[1;32m      4\u001b[0m \u001b[0mplt\u001b[0m\u001b[0;34m.\u001b[0m\u001b[0mshow\u001b[0m\u001b[0;34m(\u001b[0m\u001b[0;34m)\u001b[0m\u001b[0;34m\u001b[0m\u001b[0;34m\u001b[0m\u001b[0m\n",
            "\u001b[0;32m/usr/local/lib/python3.10/dist-packages/pandas/plotting/_core.py\u001b[0m in \u001b[0;36m__call__\u001b[0;34m(self, *args, **kwargs)\u001b[0m\n\u001b[1;32m   1028\u001b[0m                     \u001b[0mdata\u001b[0m\u001b[0;34m.\u001b[0m\u001b[0mcolumns\u001b[0m \u001b[0;34m=\u001b[0m \u001b[0mlabel_name\u001b[0m\u001b[0;34m\u001b[0m\u001b[0;34m\u001b[0m\u001b[0m\n\u001b[1;32m   1029\u001b[0m \u001b[0;34m\u001b[0m\u001b[0m\n\u001b[0;32m-> 1030\u001b[0;31m         \u001b[0;32mreturn\u001b[0m \u001b[0mplot_backend\u001b[0m\u001b[0;34m.\u001b[0m\u001b[0mplot\u001b[0m\u001b[0;34m(\u001b[0m\u001b[0mdata\u001b[0m\u001b[0;34m,\u001b[0m \u001b[0mkind\u001b[0m\u001b[0;34m=\u001b[0m\u001b[0mkind\u001b[0m\u001b[0;34m,\u001b[0m \u001b[0;34m**\u001b[0m\u001b[0mkwargs\u001b[0m\u001b[0;34m)\u001b[0m\u001b[0;34m\u001b[0m\u001b[0;34m\u001b[0m\u001b[0m\n\u001b[0m\u001b[1;32m   1031\u001b[0m \u001b[0;34m\u001b[0m\u001b[0m\n\u001b[1;32m   1032\u001b[0m     \u001b[0m__call__\u001b[0m\u001b[0;34m.\u001b[0m\u001b[0m__doc__\u001b[0m \u001b[0;34m=\u001b[0m \u001b[0m__doc__\u001b[0m\u001b[0;34m\u001b[0m\u001b[0;34m\u001b[0m\u001b[0m\n",
            "\u001b[0;32m/usr/local/lib/python3.10/dist-packages/pandas/plotting/_matplotlib/__init__.py\u001b[0m in \u001b[0;36mplot\u001b[0;34m(data, kind, **kwargs)\u001b[0m\n\u001b[1;32m     69\u001b[0m             \u001b[0mkwargs\u001b[0m\u001b[0;34m[\u001b[0m\u001b[0;34m\"ax\"\u001b[0m\u001b[0;34m]\u001b[0m \u001b[0;34m=\u001b[0m \u001b[0mgetattr\u001b[0m\u001b[0;34m(\u001b[0m\u001b[0max\u001b[0m\u001b[0;34m,\u001b[0m \u001b[0;34m\"left_ax\"\u001b[0m\u001b[0;34m,\u001b[0m \u001b[0max\u001b[0m\u001b[0;34m)\u001b[0m\u001b[0;34m\u001b[0m\u001b[0;34m\u001b[0m\u001b[0m\n\u001b[1;32m     70\u001b[0m     \u001b[0mplot_obj\u001b[0m \u001b[0;34m=\u001b[0m \u001b[0mPLOT_CLASSES\u001b[0m\u001b[0;34m[\u001b[0m\u001b[0mkind\u001b[0m\u001b[0;34m]\u001b[0m\u001b[0;34m(\u001b[0m\u001b[0mdata\u001b[0m\u001b[0;34m,\u001b[0m \u001b[0;34m**\u001b[0m\u001b[0mkwargs\u001b[0m\u001b[0;34m)\u001b[0m\u001b[0;34m\u001b[0m\u001b[0;34m\u001b[0m\u001b[0m\n\u001b[0;32m---> 71\u001b[0;31m     \u001b[0mplot_obj\u001b[0m\u001b[0;34m.\u001b[0m\u001b[0mgenerate\u001b[0m\u001b[0;34m(\u001b[0m\u001b[0;34m)\u001b[0m\u001b[0;34m\u001b[0m\u001b[0;34m\u001b[0m\u001b[0m\n\u001b[0m\u001b[1;32m     72\u001b[0m     \u001b[0mplot_obj\u001b[0m\u001b[0;34m.\u001b[0m\u001b[0mdraw\u001b[0m\u001b[0;34m(\u001b[0m\u001b[0;34m)\u001b[0m\u001b[0;34m\u001b[0m\u001b[0;34m\u001b[0m\u001b[0m\n\u001b[1;32m     73\u001b[0m     \u001b[0;32mreturn\u001b[0m \u001b[0mplot_obj\u001b[0m\u001b[0;34m.\u001b[0m\u001b[0mresult\u001b[0m\u001b[0;34m\u001b[0m\u001b[0;34m\u001b[0m\u001b[0m\n",
            "\u001b[0;32m/usr/local/lib/python3.10/dist-packages/pandas/plotting/_matplotlib/core.py\u001b[0m in \u001b[0;36mgenerate\u001b[0;34m(self)\u001b[0m\n\u001b[1;32m    497\u001b[0m     \u001b[0;34m@\u001b[0m\u001b[0mfinal\u001b[0m\u001b[0;34m\u001b[0m\u001b[0;34m\u001b[0m\u001b[0m\n\u001b[1;32m    498\u001b[0m     \u001b[0;32mdef\u001b[0m \u001b[0mgenerate\u001b[0m\u001b[0;34m(\u001b[0m\u001b[0mself\u001b[0m\u001b[0;34m)\u001b[0m \u001b[0;34m->\u001b[0m \u001b[0;32mNone\u001b[0m\u001b[0;34m:\u001b[0m\u001b[0;34m\u001b[0m\u001b[0;34m\u001b[0m\u001b[0m\n\u001b[0;32m--> 499\u001b[0;31m         \u001b[0mself\u001b[0m\u001b[0;34m.\u001b[0m\u001b[0m_compute_plot_data\u001b[0m\u001b[0;34m(\u001b[0m\u001b[0;34m)\u001b[0m\u001b[0;34m\u001b[0m\u001b[0;34m\u001b[0m\u001b[0m\n\u001b[0m\u001b[1;32m    500\u001b[0m         \u001b[0mfig\u001b[0m \u001b[0;34m=\u001b[0m \u001b[0mself\u001b[0m\u001b[0;34m.\u001b[0m\u001b[0mfig\u001b[0m\u001b[0;34m\u001b[0m\u001b[0;34m\u001b[0m\u001b[0m\n\u001b[1;32m    501\u001b[0m         \u001b[0mself\u001b[0m\u001b[0;34m.\u001b[0m\u001b[0m_make_plot\u001b[0m\u001b[0;34m(\u001b[0m\u001b[0mfig\u001b[0m\u001b[0;34m)\u001b[0m\u001b[0;34m\u001b[0m\u001b[0;34m\u001b[0m\u001b[0m\n",
            "\u001b[0;32m/usr/local/lib/python3.10/dist-packages/pandas/plotting/_matplotlib/core.py\u001b[0m in \u001b[0;36m_compute_plot_data\u001b[0;34m(self)\u001b[0m\n\u001b[1;32m    696\u001b[0m         \u001b[0;31m# no non-numeric frames or series allowed\u001b[0m\u001b[0;34m\u001b[0m\u001b[0;34m\u001b[0m\u001b[0m\n\u001b[1;32m    697\u001b[0m         \u001b[0;32mif\u001b[0m \u001b[0mis_empty\u001b[0m\u001b[0;34m:\u001b[0m\u001b[0;34m\u001b[0m\u001b[0;34m\u001b[0m\u001b[0m\n\u001b[0;32m--> 698\u001b[0;31m             \u001b[0;32mraise\u001b[0m \u001b[0mTypeError\u001b[0m\u001b[0;34m(\u001b[0m\u001b[0;34m\"no numeric data to plot\"\u001b[0m\u001b[0;34m)\u001b[0m\u001b[0;34m\u001b[0m\u001b[0;34m\u001b[0m\u001b[0m\n\u001b[0m\u001b[1;32m    699\u001b[0m \u001b[0;34m\u001b[0m\u001b[0m\n\u001b[1;32m    700\u001b[0m         \u001b[0mself\u001b[0m\u001b[0;34m.\u001b[0m\u001b[0mdata\u001b[0m \u001b[0;34m=\u001b[0m \u001b[0mnumeric_data\u001b[0m\u001b[0;34m.\u001b[0m\u001b[0mapply\u001b[0m\u001b[0;34m(\u001b[0m\u001b[0mtype\u001b[0m\u001b[0;34m(\u001b[0m\u001b[0mself\u001b[0m\u001b[0;34m)\u001b[0m\u001b[0;34m.\u001b[0m\u001b[0m_convert_to_ndarray\u001b[0m\u001b[0;34m)\u001b[0m\u001b[0;34m\u001b[0m\u001b[0;34m\u001b[0m\u001b[0m\n",
            "\u001b[0;31mTypeError\u001b[0m: no numeric data to plot"
          ]
        }
      ]
    },
    {
      "cell_type": "code",
      "source": [
        "# After running the code as it is in the book I run in the error above so i made modifications to the code to make it work\n",
        "import matplotlib.pyplot as plt\n",
        "\n",
        "# Convert Spark DataFrame to Pandas DataFrame\n",
        "pandas_df = result.toPandas()\n",
        "\n",
        "# Group by firstname and count occurrences\n",
        "name_counts = pandas_df.groupby('firstname').size()\n",
        "\n",
        "# Plot the counts\n",
        "name_counts.plot(kind='bar')\n",
        "plt.xlabel('Firstname')\n",
        "plt.ylabel('Count')\n",
        "plt.show()\n"
      ],
      "metadata": {
        "colab": {
          "base_uri": "https://localhost:8080/",
          "height": 477
        },
        "id": "1OmNjnBlsbHk",
        "outputId": "3d4f5ad1-d5c8-4677-c0e4-caff3e6fdf79"
      },
      "execution_count": null,
      "outputs": [
        {
          "output_type": "display_data",
          "data": {
            "text/plain": [
              "<Figure size 640x480 with 1 Axes>"
            ],
            "image/png": "[encoded data removed]"
          },
          "metadata": {}
        }
      ]
    },
    {
      "cell_type": "code",
      "source": [],
      "metadata": {
        "id": "em361XnAslY0"
      },
      "execution_count": null,
      "outputs": []
    },
    {
      "cell_type": "markdown",
      "source": [
        "**Word Count Implementation**\n"
      ],
      "metadata": {
        "id": "5SkDTX7g8pZ0"
      }
    },
    {
      "cell_type": "code",
      "source": [
        "#initialize Spark\n",
        "# install dependancies\n",
        "!pip install pyspark\n"
      ],
      "metadata": {
        "colab": {
          "base_uri": "https://localhost:8080/"
        },
        "id": "gZdEKsXy8zwf",
        "outputId": "c8ce6156-f3cf-4220-a610-ab507f1f0ddd"
      },
      "execution_count": null,
      "outputs": [
        {
          "output_type": "stream",
          "name": "stdout",
          "text": [
            "Requirement already satisfied: pyspark in /usr/local/lib/python3.10/dist-packages (3.5.3)\n",
            "Requirement already satisfied: py4j==0.10.9.7 in /usr/local/lib/python3.10/dist-packages (from pyspark) (0.10.9.7)\n"
          ]
        }
      ]
    },
    {
      "cell_type": "code",
      "source": [
        "# Install findspark\n",
        "!pip install findspark\n"
      ],
      "metadata": {
        "colab": {
          "base_uri": "https://localhost:8080/"
        },
        "id": "0JdLVSPQ9O-3",
        "outputId": "8afa3257-75d2-400c-c95e-99d1071ddb02"
      },
      "execution_count": null,
      "outputs": [
        {
          "output_type": "stream",
          "name": "stdout",
          "text": [
            "Collecting findspark\n",
            "  Downloading findspark-2.0.1-py2.py3-none-any.whl.metadata (352 bytes)\n",
            "Downloading findspark-2.0.1-py2.py3-none-any.whl (4.4 kB)\n",
            "Installing collected packages: findspark\n",
            "Successfully installed findspark-2.0.1\n"
          ]
        }
      ]
    },
    {
      "cell_type": "code",
      "source": [
        "#nitialize Spark\n",
        "import findspark\n",
        "findspark.init()\n",
        "from pyspark.sql import SparkSession\n",
        "spark = SparkSession.builder.appName(\"WordCount\").getOrCreate()\n"
      ],
      "metadata": {
        "id": "0eEe7q0Q9eja"
      },
      "execution_count": null,
      "outputs": []
    },
    {
      "cell_type": "markdown",
      "source": [
        "Mounted Drive Into Goole Colab\n"
      ],
      "metadata": {
        "id": "md-hGCun_BcK"
      }
    },
    {
      "cell_type": "code",
      "source": [
        "#Load the Data:\n",
        "from google.colab import drive\n",
        "drive.mount(\"/content/drive\")"
      ],
      "metadata": {
        "colab": {
          "base_uri": "https://localhost:8080/"
        },
        "id": "MQGQuHaF9t4R",
        "outputId": "a147316a-5113-48e6-ffd0-fd23232b576c"
      },
      "execution_count": null,
      "outputs": [
        {
          "output_type": "stream",
          "name": "stdout",
          "text": [
            "Mounted at /content/drive\n"
          ]
        }
      ]
    },
    {
      "cell_type": "code",
      "source": [
        "!ls /content/drive/MyDrive/drive\n"
      ],
      "metadata": {
        "colab": {
          "base_uri": "https://localhost:8080/"
        },
        "id": "m11-xWLn_K1g",
        "outputId": "7b163aa1-c044-4799-aad0-f8bce157baf8"
      },
      "execution_count": null,
      "outputs": [
        {
          "output_type": "stream",
          "name": "stdout",
          "text": [
            "input.txt\n"
          ]
        }
      ]
    },
    {
      "cell_type": "code",
      "source": [
        "!pwd"
      ],
      "metadata": {
        "colab": {
          "base_uri": "https://localhost:8080/"
        },
        "id": "8CoDITjY_Y0J",
        "outputId": "8ca855db-2b59-47d2-ae25-d8899fa514c2"
      },
      "execution_count": null,
      "outputs": [
        {
          "output_type": "stream",
          "name": "stdout",
          "text": [
            "/content\n"
          ]
        }
      ]
    },
    {
      "cell_type": "code",
      "source": [
        "#load The Data\n",
        "sc = spark.sparkContext\n",
        "text_file = sc.textFile(\"/content/drive/MyDrive/drive/input.txt\")\n"
      ],
      "metadata": {
        "id": "97XnHmOTAKvl"
      },
      "execution_count": null,
      "outputs": []
    },
    {
      "cell_type": "code",
      "source": [
        "# Implement Word Count using MapReduce\n",
        "# Split each line into words\n",
        "words = text_file.flatMap(lambda line: line.split(\" \"))"
      ],
      "metadata": {
        "id": "ZY7zxY8FAOjQ"
      },
      "execution_count": null,
      "outputs": []
    },
    {
      "cell_type": "code",
      "source": [
        "# Create a tuple (word, 1) for each word\n",
        "word_tuples = words.map(lambda word: (word, 1))\n"
      ],
      "metadata": {
        "id": "CBiUFXjPApMM"
      },
      "execution_count": null,
      "outputs": []
    },
    {
      "cell_type": "code",
      "source": [
        "# Reduce by key (word) to get word counts\n",
        "word_counts = word_tuples.reduceByKey(lambda a, b: a + b)\n"
      ],
      "metadata": {
        "id": "2iTrp2yUAvuT"
      },
      "execution_count": null,
      "outputs": []
    },
    {
      "cell_type": "code",
      "source": [
        "# Collect the results\n",
        "output = word_counts.collect()\n",
        "for word, count in output:\n",
        "  print(f\"{word}: {count}\")\n"
      ],
      "metadata": {
        "colab": {
          "base_uri": "https://localhost:8080/"
        },
        "id": "Zx39cMGNC-P0",
        "outputId": "9ef51abf-b5f9-4a36-91e3-e6f0c1589b6f"
      },
      "execution_count": null,
      "outputs": [
        {
          "output_type": "stream",
          "name": "stdout",
          "text": [
            "banana: 8\n",
            "orange: 5\n",
            "mango: 4\n",
            "apple: 9\n",
            "fruit: 9\n"
          ]
        }
      ]
    },
    {
      "cell_type": "code",
      "source": [
        "#Save the Output\n",
        "word_counts.saveAsTextFile(\"/content/drive/MyDrive/drive/output\")"
      ],
      "metadata": {
        "id": "WRvsWuJRDO-Q"
      },
      "execution_count": null,
      "outputs": []
    },
    {
      "cell_type": "markdown",
      "source": [
        "**Lab Four: Implementing Clustering Techniques using Apache Spark**\n"
      ],
      "metadata": {
        "id": "aGlkRzhQVjjA"
      }
    },
    {
      "cell_type": "code",
      "source": [
        "!pip install pyspark"
      ],
      "metadata": {
        "colab": {
          "base_uri": "https://localhost:8080/"
        },
        "id": "YjG0DUWkVs7H",
        "outputId": "1f21d14d-2f95-4472-bd40-8dda91481e57"
      },
      "execution_count": null,
      "outputs": [
        {
          "output_type": "stream",
          "name": "stdout",
          "text": [
            "Requirement already satisfied: pyspark in /usr/local/lib/python3.10/dist-packages (3.5.3)\n",
            "Requirement already satisfied: py4j==0.10.9.7 in /usr/local/lib/python3.10/dist-packages (from pyspark) (0.10.9.7)\n"
          ]
        }
      ]
    },
    {
      "cell_type": "code",
      "source": [
        "# Install findspark\n",
        "!pip install findspark"
      ],
      "metadata": {
        "colab": {
          "base_uri": "https://localhost:8080/"
        },
        "id": "KDwVPC0PY-T4",
        "outputId": "d9260a3f-d8c0-4365-9aab-c37aef063364"
      },
      "execution_count": null,
      "outputs": [
        {
          "output_type": "stream",
          "name": "stdout",
          "text": [
            "Collecting findspark\n",
            "  Downloading findspark-2.0.1-py2.py3-none-any.whl.metadata (352 bytes)\n",
            "Downloading findspark-2.0.1-py2.py3-none-any.whl (4.4 kB)\n",
            "Installing collected packages: findspark\n",
            "Successfully installed findspark-2.0.1\n"
          ]
        }
      ]
    },
    {
      "cell_type": "code",
      "source": [
        "# 1. Initialize Spark:\n",
        "import findspark\n",
        "findspark.init()\n",
        "from pyspark.sql import SparkSession\n",
        "spark = SparkSession.builder.appName(\"CyberattackClustering\").getOrCreate()"
      ],
      "metadata": {
        "id": "2jWZ1Tw9ZHrH"
      },
      "execution_count": null,
      "outputs": []
    },
    {
      "cell_type": "code",
      "source": [
        "#Load the Data:\n",
        "from google.colab import drive\n",
        "drive.mount(\"/content/drive\")"
      ],
      "metadata": {
        "colab": {
          "base_uri": "https://localhost:8080/"
        },
        "id": "V-haRCyAZxBQ",
        "outputId": "f0bec3bc-ba1b-4113-c91a-fada3f22b999"
      },
      "execution_count": null,
      "outputs": [
        {
          "output_type": "stream",
          "name": "stdout",
          "text": [
            "Mounted at /content/drive\n"
          ]
        }
      ]
    },
    {
      "cell_type": "code",
      "source": [
        "!ls /content/drive/MyDrive/drive"
      ],
      "metadata": {
        "colab": {
          "base_uri": "https://localhost:8080/"
        },
        "id": "Mro23uEragVO",
        "outputId": "78a830ee-fcac-41e8-f9aa-53d61b4f33cc"
      },
      "execution_count": null,
      "outputs": [
        {
          "output_type": "stream",
          "name": "stdout",
          "text": [
            "cyberattacks.csv  input.txt  output\n"
          ]
        }
      ]
    },
    {
      "cell_type": "code",
      "source": [
        "# Load the Data From The Drive\n",
        "data = spark.read.csv(\"/content/drive/MyDrive/drive/cyberattacks.csv\", header=True, inferSchema=True)\n",
        "data.show(5)\n"
      ],
      "metadata": {
        "colab": {
          "base_uri": "https://localhost:8080/"
        },
        "id": "5aqYGmZ0a-LU",
        "outputId": "f9ceef9b-5672-43f6-89e6-9ffe32915a57"
      },
      "execution_count": null,
      "outputs": [
        {
          "output_type": "stream",
          "name": "stdout",
          "text": [
            "+--------------------+-----------------+----------------------+-----------+----------------+---------------+-------------+-----------+-------------+--------------------+------------------+------------------+---------------+-----------+----------------+------------+--------------+----------------+--------------------+---------------+-----------------+-----------------+-------------+--------------+----------+\n",
            "|           Timestamp|Source IP Address|Destination IP Address|Source Port|Destination Port|       Protocol|Packet Length|Packet Type| Traffic Type|        Payload Data|Malware Indicators|    Anomaly Scores|Alerts/Warnings|Attack Type|Attack Signature|Action Taken|Severity Level|User Information|  Device Information|Network Segment|Geo-location Data|Proxy Information|Firewall Logs|IDS/IPS Alerts|Log Source|\n",
            "+--------------------+-----------------+----------------------+-----------+----------------+---------------+-------------+-----------+-------------+--------------------+------------------+------------------+---------------+-----------+----------------+------------+--------------+----------------+--------------------+---------------+-----------------+-----------------+-------------+--------------+----------+\n",
            "| 2023-05-30 06:33:58|    103.216.15.12|          84.9.164.252|      31225|           17616|           ICMP|          503|       Data|         HTTP|Qui natus odio as...|              NULL|              NULL|           NULL|       NULL|            NULL|        NULL|          NULL|            NULL|                NULL|           NULL|             NULL|             NULL|         NULL|          NULL|      NULL|\n",
            "|Maiores possimus ...|     IoC Detected|                 28.67|       NULL|         Malware|Known Pattern B|       Logged|        Low|Reyansh Dugal|Mozilla/5.0 (comp...|         Segment A|Jamshedpur, Sikkim|   150.9.97.135|   Log Data|            NULL|      Server|          NULL|            NULL|                NULL|           NULL|             NULL|             NULL|         NULL|          NULL|      NULL|\n",
            "| 2020-08-26 07:08:30|   78.199.217.198|        66.191.137.154|      17245|           48166|           ICMP|         1174|       Data|         HTTP|Aperiam quos modi...|              NULL|              NULL|           NULL|       NULL|            NULL|        NULL|          NULL|            NULL|                NULL|           NULL|             NULL|             NULL|         NULL|          NULL|      NULL|\n",
            "|Illo animi mollit...|     IoC Detected|                  51.5|       NULL|         Malware|Known Pattern A|      Blocked|        Low|   Sumer Rana|Mozilla/5.0 (comp...|         Segment B|Bilaspur, Nagaland|           NULL|   Log Data|            NULL|    Firewall|          NULL|            NULL|                NULL|           NULL|             NULL|             NULL|         NULL|          NULL|      NULL|\n",
            "| 2022-11-13 08:23:25|     63.79.210.48|         198.219.82.17|      16811|           53600|            UDP|          306|    Control|         HTTP|Perferendis sapie...|      IoC Detected|             87.42|Alert Triggered|       DDoS| Known Pattern B|     Ignored|           Low|    Himmat Karpe|Mozilla/5.0 (comp...|      Segment C|Bokaro, Rajasthan|   114.133.48.179|     Log Data|    Alert Data|  Firewall|\n",
            "+--------------------+-----------------+----------------------+-----------+----------------+---------------+-------------+-----------+-------------+--------------------+------------------+------------------+---------------+-----------+----------------+------------+--------------+----------------+--------------------+---------------+-----------------+-----------------+-------------+--------------+----------+\n",
            "only showing top 5 rows\n",
            "\n"
          ]
        }
      ]
    },
    {
      "cell_type": "code",
      "source": [
        "from pyspark.ml.feature import VectorAssembler\n",
        "# Selecting relevant columns for clustering\n",
        "feature_columns = [\"Source Port\", \"Destination Port\", \"Packet Length\", \"Anomaly Scores\", \"Severity Level\"]\n",
        "# Assemble features into a single vector\n",
        "assembler = VectorAssembler(inputCols=feature_columns, outputCol=\"features\")\n",
        "dataset = assembler.transform(data)\n",
        "dataset.show(5)"
      ],
      "metadata": {
        "colab": {
          "base_uri": "https://localhost:8080/",
          "height": 408
        },
        "id": "xILb8MfBfb6r",
        "outputId": "9ff4efc5-9d07-4a7b-b634-d5a266fc2b87"
      },
      "execution_count": null,
      "outputs": [
        {
          "output_type": "error",
          "ename": "IllegalArgumentException",
          "evalue": "Data type string of column Source Port is not supported.\nData type string of column Destination Port is not supported.\nData type string of column Packet Length is not supported.\nData type string of column Anomaly Scores is not supported.\nData type string of column Severity Level is not supported.",
          "traceback": [
            "\u001b[0;31m---------------------------------------------------------------------------\u001b[0m",
            "\u001b[0;31mIllegalArgumentException\u001b[0m                  Traceback (most recent call last)",
            "\u001b[0;32m<ipython-input-24-aabd2dbb895f>\u001b[0m in \u001b[0;36m<cell line: 6>\u001b[0;34m()\u001b[0m\n\u001b[1;32m      4\u001b[0m \u001b[0;31m# Assemble features into a single vector\u001b[0m\u001b[0;34m\u001b[0m\u001b[0;34m\u001b[0m\u001b[0m\n\u001b[1;32m      5\u001b[0m \u001b[0massembler\u001b[0m \u001b[0;34m=\u001b[0m \u001b[0mVectorAssembler\u001b[0m\u001b[0;34m(\u001b[0m\u001b[0minputCols\u001b[0m\u001b[0;34m=\u001b[0m\u001b[0mfeature_columns\u001b[0m\u001b[0;34m,\u001b[0m \u001b[0moutputCol\u001b[0m\u001b[0;34m=\u001b[0m\u001b[0;34m\"features\"\u001b[0m\u001b[0;34m)\u001b[0m\u001b[0;34m\u001b[0m\u001b[0;34m\u001b[0m\u001b[0m\n\u001b[0;32m----> 6\u001b[0;31m \u001b[0mdataset\u001b[0m \u001b[0;34m=\u001b[0m \u001b[0massembler\u001b[0m\u001b[0;34m.\u001b[0m\u001b[0mtransform\u001b[0m\u001b[0;34m(\u001b[0m\u001b[0mdata\u001b[0m\u001b[0;34m)\u001b[0m\u001b[0;34m\u001b[0m\u001b[0;34m\u001b[0m\u001b[0m\n\u001b[0m\u001b[1;32m      7\u001b[0m \u001b[0mdataset\u001b[0m\u001b[0;34m.\u001b[0m\u001b[0mshow\u001b[0m\u001b[0;34m(\u001b[0m\u001b[0;36m5\u001b[0m\u001b[0;34m)\u001b[0m\u001b[0;34m\u001b[0m\u001b[0;34m\u001b[0m\u001b[0m\n",
            "\u001b[0;32m/usr/local/lib/python3.10/dist-packages/pyspark/ml/base.py\u001b[0m in \u001b[0;36mtransform\u001b[0;34m(self, dataset, params)\u001b[0m\n\u001b[1;32m    260\u001b[0m                 \u001b[0;32mreturn\u001b[0m \u001b[0mself\u001b[0m\u001b[0;34m.\u001b[0m\u001b[0mcopy\u001b[0m\u001b[0;34m(\u001b[0m\u001b[0mparams\u001b[0m\u001b[0;34m)\u001b[0m\u001b[0;34m.\u001b[0m\u001b[0m_transform\u001b[0m\u001b[0;34m(\u001b[0m\u001b[0mdataset\u001b[0m\u001b[0;34m)\u001b[0m\u001b[0;34m\u001b[0m\u001b[0;34m\u001b[0m\u001b[0m\n\u001b[1;32m    261\u001b[0m             \u001b[0;32melse\u001b[0m\u001b[0;34m:\u001b[0m\u001b[0;34m\u001b[0m\u001b[0;34m\u001b[0m\u001b[0m\n\u001b[0;32m--> 262\u001b[0;31m                 \u001b[0;32mreturn\u001b[0m \u001b[0mself\u001b[0m\u001b[0;34m.\u001b[0m\u001b[0m_transform\u001b[0m\u001b[0;34m(\u001b[0m\u001b[0mdataset\u001b[0m\u001b[0;34m)\u001b[0m\u001b[0;34m\u001b[0m\u001b[0;34m\u001b[0m\u001b[0m\n\u001b[0m\u001b[1;32m    263\u001b[0m         \u001b[0;32melse\u001b[0m\u001b[0;34m:\u001b[0m\u001b[0;34m\u001b[0m\u001b[0;34m\u001b[0m\u001b[0m\n\u001b[1;32m    264\u001b[0m             \u001b[0;32mraise\u001b[0m \u001b[0mTypeError\u001b[0m\u001b[0;34m(\u001b[0m\u001b[0;34m\"Params must be a param map but got %s.\"\u001b[0m \u001b[0;34m%\u001b[0m \u001b[0mtype\u001b[0m\u001b[0;34m(\u001b[0m\u001b[0mparams\u001b[0m\u001b[0;34m)\u001b[0m\u001b[0;34m)\u001b[0m\u001b[0;34m\u001b[0m\u001b[0;34m\u001b[0m\u001b[0m\n",
            "\u001b[0;32m/usr/local/lib/python3.10/dist-packages/pyspark/ml/wrapper.py\u001b[0m in \u001b[0;36m_transform\u001b[0;34m(self, dataset)\u001b[0m\n\u001b[1;32m    396\u001b[0m \u001b[0;34m\u001b[0m\u001b[0m\n\u001b[1;32m    397\u001b[0m         \u001b[0mself\u001b[0m\u001b[0;34m.\u001b[0m\u001b[0m_transfer_params_to_java\u001b[0m\u001b[0;34m(\u001b[0m\u001b[0;34m)\u001b[0m\u001b[0;34m\u001b[0m\u001b[0;34m\u001b[0m\u001b[0m\n\u001b[0;32m--> 398\u001b[0;31m         \u001b[0;32mreturn\u001b[0m \u001b[0mDataFrame\u001b[0m\u001b[0;34m(\u001b[0m\u001b[0mself\u001b[0m\u001b[0;34m.\u001b[0m\u001b[0m_java_obj\u001b[0m\u001b[0;34m.\u001b[0m\u001b[0mtransform\u001b[0m\u001b[0;34m(\u001b[0m\u001b[0mdataset\u001b[0m\u001b[0;34m.\u001b[0m\u001b[0m_jdf\u001b[0m\u001b[0;34m)\u001b[0m\u001b[0;34m,\u001b[0m \u001b[0mdataset\u001b[0m\u001b[0;34m.\u001b[0m\u001b[0msparkSession\u001b[0m\u001b[0;34m)\u001b[0m\u001b[0;34m\u001b[0m\u001b[0;34m\u001b[0m\u001b[0m\n\u001b[0m\u001b[1;32m    399\u001b[0m \u001b[0;34m\u001b[0m\u001b[0m\n\u001b[1;32m    400\u001b[0m \u001b[0;34m\u001b[0m\u001b[0m\n",
            "\u001b[0;32m/usr/local/lib/python3.10/dist-packages/py4j/java_gateway.py\u001b[0m in \u001b[0;36m__call__\u001b[0;34m(self, *args)\u001b[0m\n\u001b[1;32m   1320\u001b[0m \u001b[0;34m\u001b[0m\u001b[0m\n\u001b[1;32m   1321\u001b[0m         \u001b[0manswer\u001b[0m \u001b[0;34m=\u001b[0m \u001b[0mself\u001b[0m\u001b[0;34m.\u001b[0m\u001b[0mgateway_client\u001b[0m\u001b[0;34m.\u001b[0m\u001b[0msend_command\u001b[0m\u001b[0;34m(\u001b[0m\u001b[0mcommand\u001b[0m\u001b[0;34m)\u001b[0m\u001b[0;34m\u001b[0m\u001b[0;34m\u001b[0m\u001b[0m\n\u001b[0;32m-> 1322\u001b[0;31m         return_value = get_return_value(\n\u001b[0m\u001b[1;32m   1323\u001b[0m             answer, self.gateway_client, self.target_id, self.name)\n\u001b[1;32m   1324\u001b[0m \u001b[0;34m\u001b[0m\u001b[0m\n",
            "\u001b[0;32m/usr/local/lib/python3.10/dist-packages/pyspark/errors/exceptions/captured.py\u001b[0m in \u001b[0;36mdeco\u001b[0;34m(*a, **kw)\u001b[0m\n\u001b[1;32m    183\u001b[0m                 \u001b[0;31m# Hide where the exception came from that shows a non-Pythonic\u001b[0m\u001b[0;34m\u001b[0m\u001b[0;34m\u001b[0m\u001b[0m\n\u001b[1;32m    184\u001b[0m                 \u001b[0;31m# JVM exception message.\u001b[0m\u001b[0;34m\u001b[0m\u001b[0;34m\u001b[0m\u001b[0m\n\u001b[0;32m--> 185\u001b[0;31m                 \u001b[0;32mraise\u001b[0m \u001b[0mconverted\u001b[0m \u001b[0;32mfrom\u001b[0m \u001b[0;32mNone\u001b[0m\u001b[0;34m\u001b[0m\u001b[0;34m\u001b[0m\u001b[0m\n\u001b[0m\u001b[1;32m    186\u001b[0m             \u001b[0;32melse\u001b[0m\u001b[0;34m:\u001b[0m\u001b[0;34m\u001b[0m\u001b[0;34m\u001b[0m\u001b[0m\n\u001b[1;32m    187\u001b[0m                 \u001b[0;32mraise\u001b[0m\u001b[0;34m\u001b[0m\u001b[0;34m\u001b[0m\u001b[0m\n",
            "\u001b[0;31mIllegalArgumentException\u001b[0m: Data type string of column Source Port is not supported.\nData type string of column Destination Port is not supported.\nData type string of column Packet Length is not supported.\nData type string of column Anomaly Scores is not supported.\nData type string of column Severity Level is not supported."
          ]
        }
      ]
    },
    {
      "cell_type": "code",
      "source": [
        "from pyspark.sql.types import IntegerType, FloatType\n",
        "from pyspark.sql.functions import col\n",
        "from pyspark.ml.feature import VectorAssembler\n",
        "\n",
        "# Cast string columns to appropriate numeric types\n",
        "for column in [\"Source Port\", \"Destination Port\", \"Packet Length\", \"Severity Level\"]:\n",
        "    data = data.withColumn(column, col(column).cast(IntegerType()))\n",
        "data = data.withColumn(\"Anomaly Scores\", col(\"Anomaly Scores\").cast(FloatType()))\n",
        "\n",
        "# Fill nulls in relevant columns with 0\n",
        "data = data.fillna(0, subset=[\"Source Port\", \"Destination Port\", \"Packet Length\", \"Anomaly Scores\", \"Severity Level\"])\n",
        "\n",
        "# Verify the schema to ensure all columns are numeric\n",
        "data.printSchema()\n",
        "\n",
        "# Selecting relevant columns for clustering\n",
        "feature_columns = [\"Source Port\", \"Destination Port\", \"Packet Length\", \"Anomaly Scores\", \"Severity Level\"]\n",
        "\n"
      ],
      "metadata": {
        "colab": {
          "base_uri": "https://localhost:8080/"
        },
        "id": "4J-5zP3fgQfA",
        "outputId": "6ebbc476-c976-4aef-f4bb-646917f8a3b6"
      },
      "execution_count": null,
      "outputs": [
        {
          "output_type": "stream",
          "name": "stdout",
          "text": [
            "root\n",
            " |-- Timestamp: string (nullable = true)\n",
            " |-- Source IP Address: string (nullable = true)\n",
            " |-- Destination IP Address: string (nullable = true)\n",
            " |-- Source Port: integer (nullable = true)\n",
            " |-- Destination Port: integer (nullable = true)\n",
            " |-- Protocol: string (nullable = true)\n",
            " |-- Packet Length: integer (nullable = true)\n",
            " |-- Packet Type: string (nullable = true)\n",
            " |-- Traffic Type: string (nullable = true)\n",
            " |-- Payload Data: string (nullable = true)\n",
            " |-- Malware Indicators: string (nullable = true)\n",
            " |-- Anomaly Scores: float (nullable = false)\n",
            " |-- Alerts/Warnings: string (nullable = true)\n",
            " |-- Attack Type: string (nullable = true)\n",
            " |-- Attack Signature: string (nullable = true)\n",
            " |-- Action Taken: string (nullable = true)\n",
            " |-- Severity Level: integer (nullable = true)\n",
            " |-- User Information: string (nullable = true)\n",
            " |-- Device Information: string (nullable = true)\n",
            " |-- Network Segment: string (nullable = true)\n",
            " |-- Geo-location Data: string (nullable = true)\n",
            " |-- Proxy Information: string (nullable = true)\n",
            " |-- Firewall Logs: string (nullable = true)\n",
            " |-- IDS/IPS Alerts: string (nullable = true)\n",
            " |-- Log Source: string (nullable = true)\n",
            "\n"
          ]
        }
      ]
    },
    {
      "cell_type": "code",
      "source": [
        "# Assemble features into a single vector\n",
        "assembler = VectorAssembler(inputCols=feature_columns, outputCol=\"features\")\n",
        "dataset = assembler.transform(data)\n",
        "\n",
        "# Display the dataset\n",
        "dataset.show(5)"
      ],
      "metadata": {
        "colab": {
          "base_uri": "https://localhost:8080/"
        },
        "id": "1NXktC7Fg7eI",
        "outputId": "2105728a-b724-4eb1-de57-2d8e233a3d35"
      },
      "execution_count": null,
      "outputs": [
        {
          "output_type": "stream",
          "name": "stdout",
          "text": [
            "+--------------------+-----------------+----------------------+-----------+----------------+---------------+-------------+-----------+-------------+--------------------+------------------+--------------+---------------+-----------+----------------+------------+--------------+----------------+--------------------+---------------+-----------------+-----------------+-------------+--------------+----------+--------------------+\n",
            "|           Timestamp|Source IP Address|Destination IP Address|Source Port|Destination Port|       Protocol|Packet Length|Packet Type| Traffic Type|        Payload Data|Malware Indicators|Anomaly Scores|Alerts/Warnings|Attack Type|Attack Signature|Action Taken|Severity Level|User Information|  Device Information|Network Segment|Geo-location Data|Proxy Information|Firewall Logs|IDS/IPS Alerts|Log Source|            features|\n",
            "+--------------------+-----------------+----------------------+-----------+----------------+---------------+-------------+-----------+-------------+--------------------+------------------+--------------+---------------+-----------+----------------+------------+--------------+----------------+--------------------+---------------+-----------------+-----------------+-------------+--------------+----------+--------------------+\n",
            "| 2023-05-30 06:33:58|    103.216.15.12|          84.9.164.252|      31225|           17616|           ICMP|          503|       Data|         HTTP|Qui natus odio as...|              NULL|           0.0|           NULL|       NULL|            NULL|        NULL|             0|            NULL|                NULL|           NULL|             NULL|             NULL|         NULL|          NULL|      NULL|[31225.0,17616.0,...|\n",
            "|Maiores possimus ...|     IoC Detected|                 28.67|          0|               0|Known Pattern B|            0|        Low|Reyansh Dugal|Mozilla/5.0 (comp...|         Segment A|           0.0|   150.9.97.135|   Log Data|            NULL|      Server|             0|            NULL|                NULL|           NULL|             NULL|             NULL|         NULL|          NULL|      NULL|           (5,[],[])|\n",
            "| 2020-08-26 07:08:30|   78.199.217.198|        66.191.137.154|      17245|           48166|           ICMP|         1174|       Data|         HTTP|Aperiam quos modi...|              NULL|           0.0|           NULL|       NULL|            NULL|        NULL|             0|            NULL|                NULL|           NULL|             NULL|             NULL|         NULL|          NULL|      NULL|[17245.0,48166.0,...|\n",
            "|Illo animi mollit...|     IoC Detected|                  51.5|          0|               0|Known Pattern A|            0|        Low|   Sumer Rana|Mozilla/5.0 (comp...|         Segment B|           0.0|           NULL|   Log Data|            NULL|    Firewall|             0|            NULL|                NULL|           NULL|             NULL|             NULL|         NULL|          NULL|      NULL|           (5,[],[])|\n",
            "| 2022-11-13 08:23:25|     63.79.210.48|         198.219.82.17|      16811|           53600|            UDP|          306|    Control|         HTTP|Perferendis sapie...|      IoC Detected|         87.42|Alert Triggered|       DDoS| Known Pattern B|     Ignored|             0|    Himmat Karpe|Mozilla/5.0 (comp...|      Segment C|Bokaro, Rajasthan|   114.133.48.179|     Log Data|    Alert Data|  Firewall|[16811.0,53600.0,...|\n",
            "+--------------------+-----------------+----------------------+-----------+----------------+---------------+-------------+-----------+-------------+--------------------+------------------+--------------+---------------+-----------+----------------+------------+--------------+----------------+--------------------+---------------+-----------------+-----------------+-------------+--------------+----------+--------------------+\n",
            "only showing top 5 rows\n",
            "\n"
          ]
        }
      ]
    },
    {
      "cell_type": "code",
      "source": [
        "from pyspark.ml.clustering import KMeans\n",
        "# Set the number of clusters\n",
        "kmeans = KMeans(k=3, seed=1)  # Adjust k as necessary\n",
        "model = kmeans.fit(dataset)\n",
        "\n"
      ],
      "metadata": {
        "id": "tnOys22gius5"
      },
      "execution_count": null,
      "outputs": []
    },
    {
      "cell_type": "code",
      "source": [
        "# Make predictions\n",
        "predictions = model.transform(dataset)\n",
        "predictions.show(5)"
      ],
      "metadata": {
        "colab": {
          "base_uri": "https://localhost:8080/"
        },
        "id": "RTO10K1Ui6_3",
        "outputId": "e25e411c-d139-46ac-c7de-64b00db92acb"
      },
      "execution_count": null,
      "outputs": [
        {
          "output_type": "stream",
          "name": "stdout",
          "text": [
            "+--------------------+-----------------+----------------------+-----------+----------------+---------------+-------------+-----------+-------------+--------------------+------------------+--------------+---------------+-----------+----------------+------------+--------------+----------------+--------------------+---------------+-----------------+-----------------+-------------+--------------+----------+--------------------+----------+\n",
            "|           Timestamp|Source IP Address|Destination IP Address|Source Port|Destination Port|       Protocol|Packet Length|Packet Type| Traffic Type|        Payload Data|Malware Indicators|Anomaly Scores|Alerts/Warnings|Attack Type|Attack Signature|Action Taken|Severity Level|User Information|  Device Information|Network Segment|Geo-location Data|Proxy Information|Firewall Logs|IDS/IPS Alerts|Log Source|            features|prediction|\n",
            "+--------------------+-----------------+----------------------+-----------+----------------+---------------+-------------+-----------+-------------+--------------------+------------------+--------------+---------------+-----------+----------------+------------+--------------+----------------+--------------------+---------------+-----------------+-----------------+-------------+--------------+----------+--------------------+----------+\n",
            "| 2023-05-30 06:33:58|    103.216.15.12|          84.9.164.252|      31225|           17616|           ICMP|          503|       Data|         HTTP|Qui natus odio as...|              NULL|           0.0|           NULL|       NULL|            NULL|        NULL|             0|            NULL|                NULL|           NULL|             NULL|             NULL|         NULL|          NULL|      NULL|[31225.0,17616.0,...|         2|\n",
            "|Maiores possimus ...|     IoC Detected|                 28.67|          0|               0|Known Pattern B|            0|        Low|Reyansh Dugal|Mozilla/5.0 (comp...|         Segment A|           0.0|   150.9.97.135|   Log Data|            NULL|      Server|             0|            NULL|                NULL|           NULL|             NULL|             NULL|         NULL|          NULL|      NULL|           (5,[],[])|         1|\n",
            "| 2020-08-26 07:08:30|   78.199.217.198|        66.191.137.154|      17245|           48166|           ICMP|         1174|       Data|         HTTP|Aperiam quos modi...|              NULL|           0.0|           NULL|       NULL|            NULL|        NULL|             0|            NULL|                NULL|           NULL|             NULL|             NULL|         NULL|          NULL|      NULL|[17245.0,48166.0,...|         0|\n",
            "|Illo animi mollit...|     IoC Detected|                  51.5|          0|               0|Known Pattern A|            0|        Low|   Sumer Rana|Mozilla/5.0 (comp...|         Segment B|           0.0|           NULL|   Log Data|            NULL|    Firewall|             0|            NULL|                NULL|           NULL|             NULL|             NULL|         NULL|          NULL|      NULL|           (5,[],[])|         1|\n",
            "| 2022-11-13 08:23:25|     63.79.210.48|         198.219.82.17|      16811|           53600|            UDP|          306|    Control|         HTTP|Perferendis sapie...|      IoC Detected|         87.42|Alert Triggered|       DDoS| Known Pattern B|     Ignored|             0|    Himmat Karpe|Mozilla/5.0 (comp...|      Segment C|Bokaro, Rajasthan|   114.133.48.179|     Log Data|    Alert Data|  Firewall|[16811.0,53600.0,...|         0|\n",
            "+--------------------+-----------------+----------------------+-----------+----------------+---------------+-------------+-----------+-------------+--------------------+------------------+--------------+---------------+-----------+----------------+------------+--------------+----------------+--------------------+---------------+-----------------+-----------------+-------------+--------------+----------+--------------------+----------+\n",
            "only showing top 5 rows\n",
            "\n"
          ]
        }
      ]
    },
    {
      "cell_type": "code",
      "source": [
        "from pyspark.ml.evaluation import ClusteringEvaluator\n",
        "evaluator = ClusteringEvaluator()\n",
        "silhouette = evaluator.evaluate(predictions)\n",
        "print(f\"Silhouette with squared euclidean distance = {silhouette}\")"
      ],
      "metadata": {
        "colab": {
          "base_uri": "https://localhost:8080/"
        },
        "id": "00h3e72wjryI",
        "outputId": "9ed344db-0cdb-43e4-ddfd-2d1b13047249"
      },
      "execution_count": null,
      "outputs": [
        {
          "output_type": "stream",
          "name": "stdout",
          "text": [
            "Silhouette with squared euclidean distance = 0.6796741901108755\n"
          ]
        }
      ]
    },
    {
      "cell_type": "code",
      "source": [
        "#6. View Cluster Centers: The cluster centers represent the average value of each feature for each cluster.\n",
        "centers = model.clusterCenters()\n",
        "print(\"Cluster Centers: \")\n",
        "for center in centers:\n",
        "  print(center)"
      ],
      "metadata": {
        "colab": {
          "base_uri": "https://localhost:8080/"
        },
        "id": "Ta-P5Sv-j4nT",
        "outputId": "798126b2-e753-448f-e923-b9730dd48ff1"
      },
      "execution_count": null,
      "outputs": [
        {
          "output_type": "stream",
          "name": "stdout",
          "text": [
            "Cluster Centers: \n",
            "[2.24154894e+04 4.78419130e+04 7.80504832e+02 2.81299307e+01\n",
            " 0.00000000e+00]\n",
            "[3546.30017769 3180.54511743  194.89674753    6.86508962    0.        ]\n",
            "[4.92651731e+04 2.76754471e+04 7.85174197e+02 2.77335752e+01\n",
            " 0.00000000e+00]\n"
          ]
        }
      ]
    }
  ]
}