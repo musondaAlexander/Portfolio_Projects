{
 "cells": [
  {
   "cell_type": "code",
   "execution_count": 1,
   "metadata": {},
   "outputs": [],
   "source": [
    "#make the Imports \n",
    "import pymongo"
   ]
  },
  {
   "cell_type": "code",
   "execution_count": 2,
   "metadata": {},
   "outputs": [],
   "source": [
    "#making the database connection to Mongo DB localy\n",
    "# Create a connection to MongoDB \n",
    "client = pymongo.MongoClient(\"mongodb://localhost:27017/\") \n",
    "db = client[\"cybersecurity_lab\"] \n",
    "collection = db[\"cyberattacks\"] "
   ]
  },
  {
   "cell_type": "markdown",
   "metadata": {},
   "source": [
    "2. Inserting Documents (Create): \n",
    "Insert a single document into the cyberattacks collection. A document in MongoDB resembles a \n",
    "JSON object. \n"
   ]
  },
  {
   "cell_type": "code",
   "execution_count": 3,
   "metadata": {},
   "outputs": [
    {
     "name": "stdout",
     "output_type": "stream",
     "text": [
      "Data Inserted\n"
     ]
    }
   ],
   "source": [
    "#Inserting date into the database \n",
    "cyberattack_data = { \n",
    "\"Timestamp\": \"2023-07-02 10:38:46\", \n",
    "\"Source IP Address\": \"163.42.196.10\", \n",
    "\"Destination IP Address\": \"101.228.192.255\", \n",
    "\"Source Port\": 20018, \n",
    "\"Destination Port\": 32534, \n",
    "\"Protocol\": \"UDP\", \n",
    "\"Packet Length\": 385, \n",
    "\"Packet Type\": \"Data\", \n",
    "\"Traffic Type\": \"HTTP\", \n",
    "\"Malware Indicators\": \"IoC Detected\", \n",
    "\"Anomaly Scores\": 15.79, \n",
    "\"Attack Type\": \"Malware\", \n",
    "\"Severity Level\": \"Medium\", \n",
    "\"Actions Taken\": \"Blocked\" \n",
    "} \n",
    "collection.insert_one(cyberattack_data) \n",
    "print(\"Data Inserted\") "
   ]
  },
  {
   "cell_type": "code",
   "execution_count": 4,
   "metadata": {},
   "outputs": [
    {
     "name": "stdout",
     "output_type": "stream",
     "text": [
      "Multiple Data Inserted\n"
     ]
    }
   ],
   "source": [
    "#To insert multiple documents at once:\n",
    "\n",
    "data_list = [ \n",
    "{\"Timestamp\": \"2020-08-26 07:08:30\", \"Source IP Address\": \"78.199.217.198\", \n",
    "\"Anomaly Scores\": 51.5, \"Attack Type\": \"Malware\"}, \n",
    "{\"Timestamp\": \"2023-05-30 06:33:58\", \"Source IP Address\": \"103.216.15.12\", \n",
    "\"Anomaly Scores\": 28.67, \"Attack Type\": \"Malware\"} \n",
    "] \n",
    "collection.insert_many(data_list) \n",
    "print(\"Multiple Data Inserted\")"
   ]
  },
  {
   "cell_type": "code",
   "execution_count": 5,
   "metadata": {},
   "outputs": [
    {
     "name": "stdout",
     "output_type": "stream",
     "text": [
      "{'_id': ObjectId('67496fe9e10a30f5a9d2822d'), 'Timestamp': '2023-07-02 10:38:46', 'Source IP Address': '163.42.196.10', 'Destination IP Address': '101.228.192.255', 'Source Port': 20018, 'Destination Port': 32534, 'Protocol': 'UDP', 'Packet Length': 385, 'Packet Type': 'Data', 'Traffic Type': 'HTTP', 'Malware Indicators': 'IoC Detected', 'Anomaly Scores': 15.79, 'Attack Type': 'Malware', 'Severity Level': 'Medium', 'Actions Taken': 'Blocked'}\n"
     ]
    }
   ],
   "source": [
    "#3. Reading Documents (Read): \n",
    "\n",
    "#Find one document \n",
    "result = collection.find_one() \n",
    "print(result) \n"
   ]
  },
  {
   "cell_type": "code",
   "execution_count": 6,
   "metadata": {},
   "outputs": [
    {
     "name": "stdout",
     "output_type": "stream",
     "text": [
      "{'_id': ObjectId('67496fe9e10a30f5a9d2822d'), 'Timestamp': '2023-07-02 10:38:46', 'Source IP Address': '163.42.196.10', 'Destination IP Address': '101.228.192.255', 'Source Port': 20018, 'Destination Port': 32534, 'Protocol': 'UDP', 'Packet Length': 385, 'Packet Type': 'Data', 'Traffic Type': 'HTTP', 'Malware Indicators': 'IoC Detected', 'Anomaly Scores': 15.79, 'Attack Type': 'Malware', 'Severity Level': 'Medium', 'Actions Taken': 'Blocked'}\n",
      "{'_id': ObjectId('674975a5e10a30f5a9d2822e'), 'Timestamp': '2020-08-26 07:08:30', 'Source IP Address': '78.199.217.198', 'Anomaly Scores': 51.5, 'Attack Type': 'Malware'}\n",
      "{'_id': ObjectId('674975a5e10a30f5a9d2822f'), 'Timestamp': '2023-05-30 06:33:58', 'Source IP Address': '103.216.15.12', 'Anomaly Scores': 28.67, 'Attack Type': 'Malware'}\n"
     ]
    }
   ],
   "source": [
    "\n",
    "# Find documents with specific criteria (e.g., attack type = \"Malware\") \n",
    "malware_attacks = collection.find({\"Attack Type\": \"Malware\"}) \n",
    "for attack in malware_attacks: \n",
    "    print(attack) "
   ]
  },
  {
   "cell_type": "code",
   "execution_count": 7,
   "metadata": {},
   "outputs": [
    {
     "data": {
      "text/plain": [
       "UpdateResult({'n': 3, 'nModified': 3, 'ok': 1.0, 'updatedExisting': True}, acknowledged=True)"
      ]
     },
     "execution_count": 7,
     "metadata": {},
     "output_type": "execute_result"
    }
   ],
   "source": [
    "# Update a specific document's severity level \n",
    "collection.update_one( \n",
    "{\"Source IP Address\": \"163.42.196.10\"}, \n",
    "{\"$set\": {\"Severity Level\": \"High\"}} \n",
    ") \n",
    "# Update multiple documents at once \n",
    "collection.update_many( \n",
    "{\"Attack Type\": \"Malware\"}, \n",
    "{\"$set\": {\"Action Taken\": \"Logged\"}} \n",
    ") "
   ]
  },
  {
   "cell_type": "code",
   "execution_count": 8,
   "metadata": {},
   "outputs": [
    {
     "data": {
      "text/plain": [
       "DeleteResult({'n': 1, 'ok': 1.0}, acknowledged=True)"
      ]
     },
     "execution_count": 8,
     "metadata": {},
     "output_type": "execute_result"
    }
   ],
   "source": [
    "# The Delete a specific document or all documents that match a condition. \n",
    "# Delete a specific document \n",
    "collection.delete_one({\"Source IP Address\": \"163.42.196.10\"}) \n"
   ]
  },
  {
   "cell_type": "code",
   "execution_count": 9,
   "metadata": {},
   "outputs": [
    {
     "data": {
      "text/plain": [
       "DeleteResult({'n': 2, 'ok': 1.0}, acknowledged=True)"
      ]
     },
     "execution_count": 9,
     "metadata": {},
     "output_type": "execute_result"
    }
   ],
   "source": [
    "# Delete multiple documents (e.g., all with Action Taken = Logged) \n",
    "collection.delete_many({\"Action Taken\": \"Logged\"}) "
   ]
  },
  {
   "cell_type": "code",
   "execution_count": 10,
   "metadata": {},
   "outputs": [
    {
     "data": {
      "text/plain": [
       "InsertOneResult(ObjectId('67497b15e10a30f5a9d28230'), acknowledged=True)"
      ]
     },
     "execution_count": 10,
     "metadata": {},
     "output_type": "execute_result"
    }
   ],
   "source": [
    "#Insterting an Array into Mongo DB \n",
    "cyberattack_with_actions = { \n",
    "\"Timestamp\": \"2023-07-02 10:38:46\", \n",
    "\"Source IP Address\": \"163.42.196.10\", \n",
    "\"Attack Type\": \"Malware\", \n",
    "\"Actions\": [\"Alert Triggered\", \"Blocked\", \"Notified Admin\"] \n",
    "} \n",
    "collection.insert_one(cyberattack_with_actions) "
   ]
  },
  {
   "cell_type": "code",
   "execution_count": 11,
   "metadata": {},
   "outputs": [
    {
     "name": "stdout",
     "output_type": "stream",
     "text": [
      "{'_id': ObjectId('67497b15e10a30f5a9d28230'), 'Timestamp': '2023-07-02 10:38:46', 'Source IP Address': '163.42.196.10', 'Attack Type': 'Malware', 'Actions': ['Alert Triggered', 'Blocked', 'Notified Admin']}\n"
     ]
    }
   ],
   "source": [
    "#Query documents where the array contains a specific value: \n",
    "# Find documents where \"Blocked\" is one of the actions taken \n",
    "result = collection.find({\"Actions\": \"Blocked\"}) \n",
    "for r in result: \n",
    "    print(r)"
   ]
  },
  {
   "cell_type": "code",
   "execution_count": 13,
   "metadata": {},
   "outputs": [
    {
     "data": {
      "text/plain": [
       "UpdateResult({'n': 1, 'nModified': 1, 'ok': 1.0, 'updatedExisting': True}, acknowledged=True)"
      ]
     },
     "execution_count": 13,
     "metadata": {},
     "output_type": "execute_result"
    }
   ],
   "source": [
    "#Add a new value to an existing array using the $push operator: \n",
    "# Add \"Logged\" action to the array \n",
    "collection.update_one( \n",
    "    {\"Source IP Address\": \"163.42.196.10\"}, \n",
    "    {\"$push\": {\"Actions\": \"Logged\"}}\n",
    ")"
   ]
  },
  {
   "cell_type": "code",
   "execution_count": 14,
   "metadata": {},
   "outputs": [
    {
     "data": {
      "text/plain": [
       "UpdateResult({'n': 1, 'nModified': 1, 'ok': 1.0, 'updatedExisting': True}, acknowledged=True)"
      ]
     },
     "execution_count": 14,
     "metadata": {},
     "output_type": "execute_result"
    }
   ],
   "source": [
    "# Remove \"Notified Admin\" from the actions array \n",
    "collection.update_one( \n",
    "    {\"Source IP Address\": \"163.42.196.10\"}, \n",
    "    {\"$pull\": {\"Actions\": \"Notified Admin\"}} \n",
    "    )"
   ]
  }
 ],
 "metadata": {
  "kernelspec": {
   "display_name": "Python 3",
   "language": "python",
   "name": "python3"
  },
  "language_info": {
   "codemirror_mode": {
    "name": "ipython",
    "version": 3
   },
   "file_extension": ".py",
   "mimetype": "text/x-python",
   "name": "python",
   "nbconvert_exporter": "python",
   "pygments_lexer": "ipython3",
   "version": "3.10.3"
  }
 },
 "nbformat": 4,
 "nbformat_minor": 2
}
