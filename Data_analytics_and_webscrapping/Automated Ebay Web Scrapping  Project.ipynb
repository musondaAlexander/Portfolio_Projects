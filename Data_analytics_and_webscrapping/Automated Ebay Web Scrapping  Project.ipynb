{
 "cells": [
  {
   "cell_type": "code",
   "execution_count": 3,
   "id": "b216d6c1",
   "metadata": {},
   "outputs": [],
   "source": [
    "#  Importing all the packages that will be needed.\n",
    "from bs4 import BeautifulSoup\n",
    "import requests\n",
    "import time \n",
    "import datetime \n",
    "import pandas as pd \n",
    "import csv "
   ]
  },
  {
   "cell_type": "code",
   "execution_count": null,
   "id": "337a5810",
   "metadata": {},
   "outputs": [],
   "source": [
    "# url = 'https://www.ebay.com/itm/275519431398?epid=26038081724&hash=item40263ce2e6:g:Zk8AAOSwt0RjXRdx&amdata=enc%3AAQAHAAAA4PtAQ63XHuei9e4yR55Pqt7juTJ11YWMbvtOFv1SUOnABrNo6BznCQ6kyZtAl8EuBrtziC93hAqSTHMIJ%2FGjPRNxs80P1ZMEPNA1wpI73Wu1O%2FA6TXS9C6%2FE92F3L4x2x%2Fhle3tYsNx%2BshMp%2Bh%2FLHHJzKUQTZP3OhPxmqzl9MmFtDUvFFAwZp0Ma2CqeSij6%2BZr7N2va5rVlnsVuO%2BxSCNmihA0EffjbnCQGcATyMiNPIAbeYsE2gB8D3gZrNbgU0PTa0f0jb%2FExm4xgArLboUZJxKkva3saJndBdAL2d5Gu%7Ctkp%3ABFBMtJHZ8Kxh'\n",
    "# headers = { \"User-Agent\": \"Mozilla/5.0 (Windows NT 10.0; Win64; x64) AppleWebKit/537.36 (KHTML, like Gecko) Chrome/107.0.0.0 Safari/537.36 Edg/107.0.1418.42\",\"Accept-Encoding\": \"gzip, deflate\",\"Accept\": \"text/html,application/xhtml+xml,application/xml;q=0.9,image/avif,image/webp,image/apng,*/*;q=0.8,application/signed-exchange;v=b3;q=0.9\",\"Upgrade-Insecure-Requests\": \"1\"}\n",
    "# page = requests.get(url, headers)\n",
    "\n",
    "# #After making the connecton let us try and see if we can retrive the data from the site\n",
    "# soup1 = BeautifulSoup(page.content, \"html.parser\")\n",
    "\n",
    "# soup2 = BeautifulSoup(soup1.prettify(), \"html.parser\")# TO MAKE IT MORE READABLE\n",
    "\n",
    "# print(soup2)"
   ]
  },
  {
   "cell_type": "code",
   "execution_count": 34,
   "id": "39e2aa0e",
   "metadata": {},
   "outputs": [
    {
     "name": "stdout",
     "output_type": "stream",
     "text": [
      "\n",
      "\n",
      "\n",
      "\n",
      "\n",
      "\n",
      "                     Approximately\n",
      "                     \n",
      "\n",
      "\n",
      "\n",
      "\n",
      "\n",
      "\n",
      "\n",
      "\n",
      "\n",
      "                     US $54.12\n",
      "                     \n",
      "\n",
      "\n",
      "\n",
      "\n",
      "\n",
      "\n",
      "           G-Shock Black & Bronze GA-110 Denim Series Mens Stylish Watch UK\n",
      "          \n",
      "this is the  price that was extracted using the span tag\n",
      "\n",
      "\n",
      "                     US $54.12\n",
      "                     \n",
      "\n"
     ]
    }
   ],
   "source": [
    "# Connect to the site that we want to scrape \n",
    "    \n",
    "url = 'https://www.ebay.com/itm/275519431398?epid=26038081724&hash=item40263ce2e6:g:Zk8AAOSwt0RjXRdx&amdata=enc%3AAQAHAAAA4PtAQ63XHuei9e4yR55Pqt7juTJ11YWMbvtOFv1SUOnABrNo6BznCQ6kyZtAl8EuBrtziC93hAqSTHMIJ%2FGjPRNxs80P1ZMEPNA1wpI73Wu1O%2FA6TXS9C6%2FE92F3L4x2x%2Fhle3tYsNx%2BshMp%2Bh%2FLHHJzKUQTZP3OhPxmqzl9MmFtDUvFFAwZp0Ma2CqeSij6%2BZr7N2va5rVlnsVuO%2BxSCNmihA0EffjbnCQGcATyMiNPIAbeYsE2gB8D3gZrNbgU0PTa0f0jb%2FExm4xgArLboUZJxKkva3saJndBdAL2d5Gu%7Ctkp%3ABFBMtJHZ8Kxh'\n",
    "headers = { \"User-Agent\": \"Mozilla/5.0 (Windows NT 10.0; Win64; x64) AppleWebKit/537.36 (KHTML, like Gecko) Chrome/107.0.0.0 Safari/537.36 Edg/107.0.1418.42\",\"Accept-Encoding\": \"gzip, deflate\",\"Accept\": \"text/html,application/xhtml+xml,application/xml;q=0.9,image/avif,image/webp,image/apng,*/*;q=0.8,application/signed-exchange;v=b3;q=0.9\",\"Upgrade-Insecure-Requests\": \"1\"}\n",
    "page = requests.get(url, headers)\n",
    "\n",
    "#After making the connecton let us try and see if we can retrive the data from the site\n",
    "soup1 = BeautifulSoup(page.content, \"html.parser\")\n",
    "\n",
    "soup2 = BeautifulSoup(soup1.prettify(), \"html.parser\")# TO MAKE IT MORE READABLE\n",
    "\n",
    "# print(soup2)\n",
    "# We want now to target the name of the Good we are after and price and rating of the good.\n",
    "\n",
    "title = soup2.find(id=\"vi-lkhdr-itmTitl\").get_text()\n",
    "\n",
    "# will use a div to find the tex of the price \n",
    "\n",
    "div = soup2.find('div', {\"class\":\"x-price-approx\"}) #Finds the div with class \"x-price-approx\"\n",
    "price = div.text #Identifies text of the div tag\n",
    "\n",
    "\n",
    "#getting the price as dictionary using a span \n",
    "\n",
    "span = soup2.find('span', {\"class\": \"ux-textspans ux-textspans--SECONDARY ux-textspans--BOLD\"})\n",
    "price2 = span.text \n",
    "\n",
    "print(price)\n",
    "print(title)\n",
    "\n",
    "print(\"this is the  price that was extracted using the span tag\")\n",
    "\n",
    "print(price2)\n",
    "\n"
   ]
  },
  {
   "cell_type": "markdown",
   "id": "bf40283f",
   "metadata": {},
   "source": [
    "### NOW WE NEED TO CLEAN UP THE DATA THAT  WE ARE RETRIEVING "
   ]
  },
  {
   "cell_type": "code",
   "execution_count": 41,
   "id": "86ddcee9",
   "metadata": {},
   "outputs": [
    {
     "name": "stdout",
     "output_type": "stream",
     "text": [
      "54.12\n",
      "G-Shock Black & Bronze GA-110 Denim Series Mens Stylish Watch UK\n"
     ]
    }
   ],
   "source": [
    "price = price2.strip()[4:]\n",
    "title = title.strip()\n",
    "print(price)\n",
    "print(title)\n",
    "# now are our data is clean. This process can be done for multiple data entries."
   ]
  },
  {
   "cell_type": "code",
   "execution_count": 45,
   "id": "5ec76c36",
   "metadata": {},
   "outputs": [
    {
     "name": "stdout",
     "output_type": "stream",
     "text": [
      "2022-12-31\n"
     ]
    }
   ],
   "source": [
    "# now we add the date \n",
    "\n",
    "today = datetime.date.today()\n",
    "print(today)"
   ]
  },
  {
   "cell_type": "code",
   "execution_count": 46,
   "id": "33384dcc",
   "metadata": {},
   "outputs": [],
   "source": [
    "#  now we need tp create the CSV file where wil store our data\n",
    "header = ['Title', 'Price','Date']\n",
    "data = [title,price,today]\n",
    "\n",
    "with open('EbayWebScraping.csv', 'w',newline='', encoding='UTF8') as f:\n",
    "    writer = csv.writer(f)\n",
    "    writer.writerow(header)\n",
    "    writer.writerow(data)\n",
    "    "
   ]
  },
  {
   "cell_type": "code",
   "execution_count": 54,
   "id": "20f58187",
   "metadata": {},
   "outputs": [
    {
     "name": "stdout",
     "output_type": "stream",
     "text": [
      "                                               Title  Price        Date\n",
      "0  G-Shock Black & Bronze GA-110 Denim Series Men...  54.12  2022-12-31\n",
      "1  G-Shock Black & Bronze GA-110 Denim Series Men...  54.12  2022-12-31\n"
     ]
    }
   ],
   "source": [
    "import pandas as pd\n",
    "df = pd.read_csv(r'C:\\Users\\Alexander\\EbayWebScraping.csv')\n",
    "print(df)"
   ]
  },
  {
   "cell_type": "code",
   "execution_count": null,
   "id": "ff968d05",
   "metadata": {},
   "outputs": [],
   "source": [
    "# now we can append data to the csv file\n",
    "\n"
   ]
  },
  {
   "cell_type": "markdown",
   "id": "aa2dd5b8",
   "metadata": {},
   "source": [
    "# Now we automate the process "
   ]
  },
  {
   "cell_type": "code",
   "execution_count": 53,
   "id": "960c54cc",
   "metadata": {},
   "outputs": [],
   "source": [
    "# now we want to automate the process by putting this code in function that will be called for\n",
    "# as lonng as we want to monitor the prices fot this watch.\n",
    "\n",
    "#  method to do all the task for scraping and be called at the end.\n",
    "\n",
    "def track_price():\n",
    "    # Connect to the site that we want to scrape \n",
    "    \n",
    "    url = 'https://www.ebay.com/itm/275519431398?epid=26038081724&hash=item40263ce2e6:g:Zk8AAOSwt0RjXRdx&amdata=enc%3AAQAHAAAA4PtAQ63XHuei9e4yR55Pqt7juTJ11YWMbvtOFv1SUOnABrNo6BznCQ6kyZtAl8EuBrtziC93hAqSTHMIJ%2FGjPRNxs80P1ZMEPNA1wpI73Wu1O%2FA6TXS9C6%2FE92F3L4x2x%2Fhle3tYsNx%2BshMp%2Bh%2FLHHJzKUQTZP3OhPxmqzl9MmFtDUvFFAwZp0Ma2CqeSij6%2BZr7N2va5rVlnsVuO%2BxSCNmihA0EffjbnCQGcATyMiNPIAbeYsE2gB8D3gZrNbgU0PTa0f0jb%2FExm4xgArLboUZJxKkva3saJndBdAL2d5Gu%7Ctkp%3ABFBMtJHZ8Kxh'\n",
    "    headers = { \"User-Agent\": \"Mozilla/5.0 (Windows NT 10.0; Win64; x64) AppleWebKit/537.36 (KHTML, like Gecko) Chrome/107.0.0.0 Safari/537.36 Edg/107.0.1418.42\",\"Accept-Encoding\": \"gzip, deflate\",\"Accept\": \"text/html,application/xhtml+xml,application/xml;q=0.9,image/avif,image/webp,image/apng,*/*;q=0.8,application/signed-exchange;v=b3;q=0.9\",\"Upgrade-Insecure-Requests\": \"1\"}\n",
    "    page = requests.get(url, headers)\n",
    "\n",
    "    #After making the connecton let us try and see if we can retrive the data from the site\n",
    "    soup1 = BeautifulSoup(page.content, \"html.parser\")\n",
    "\n",
    "    soup2 = BeautifulSoup(soup1.prettify(), \"html.parser\")# TO MAKE IT MORE READABLE\n",
    "\n",
    "    title = soup2.find(id=\"vi-lkhdr-itmTitl\").get_text() #get the title of the good\n",
    "    span = soup2.find('span', {\"class\": \"ux-textspans ux-textspans--SECONDARY ux-textspans--BOLD\"})\n",
    "    price2 = span.text #get the price of the good\n",
    "    \n",
    "    #  formating the data now    \n",
    "    price = price2.strip()[4:]\n",
    "    title = title.strip()\n",
    "    today = datetime.date.today() #adding the date field \n",
    "    \n",
    "    #      we create the fields for the csv \n",
    "    header = ['Title', 'Price','Date']\n",
    "    data = [title,price,today]\n",
    "    with open('EbayWebScraping.csv', 'a+',newline='', encoding='UTF8') as f:\n",
    "        writer = csv.writer(f)\n",
    "        writer.writerow(data)\n",
    "        \n",
    "#         you can use the code below to send personalized mail, just uncomment this code \n",
    "#     if (price <= 54): \n",
    "#         send_email()\n",
    "    \n",
    "    "
   ]
  },
  {
   "cell_type": "code",
   "execution_count": 59,
   "id": "7c32abf8",
   "metadata": {},
   "outputs": [],
   "source": [
    "# this code allows the program to send a personalized mail when the price reaches a \n",
    "# particluar stage you  want it.\n",
    "def send_email():\n",
    "    server = smplib.SMTP_SSL('smtp.gmail.com',465)\n",
    "    server.ehlo()\n",
    "    # sever.starttls()\n",
    "    server.ehlo()\n",
    "    server.login('musondaalexander@gmail.com', 'xxxxxxxxxxxx') #put your own email and password\n",
    "    \n",
    "    subject = \" the price has reduced\"\n",
    "    body = \"The moment has arrived to buy the watch\"\n",
    "    msg = f\"Subject: {subject}\\n\\n{body}\"\n",
    "    server.sendmail('musondaalexander97@gmail.com',msg)\n"
   ]
  },
  {
   "cell_type": "code",
   "execution_count": null,
   "id": "40e9c1e0",
   "metadata": {},
   "outputs": [],
   "source": [
    "#  Now we are going to call our fucntion and and let is run for a specif amout of time.\n",
    "\n",
    "while(True):\n",
    "    track_price()\n",
    "    time.sleep(5) # time has ben set to a day. 86400  seconds \n",
    "    "
   ]
  },
  {
   "cell_type": "code",
   "execution_count": null,
   "id": "98a83f46",
   "metadata": {},
   "outputs": [],
   "source": [
    "# Reading the data after the program is stoped.\n",
    "df = pd.read_csv(r'C:\\Users\\Alexander\\EbayWebScraping.csv')\n",
    "print(df)"
   ]
  },
  {
   "cell_type": "markdown",
   "id": "012569bf",
   "metadata": {},
   "source": [
    "* from the ouput above we can see that the data waa appended automaticallyto the csv file once the program was in execution "
   ]
  },
  {
   "cell_type": "code",
   "execution_count": null,
   "id": "66f5424e",
   "metadata": {},
   "outputs": [],
   "source": []
  }
 ],
 "metadata": {
  "kernelspec": {
   "display_name": "Python 3 (ipykernel)",
   "language": "python",
   "name": "python3"
  },
  "language_info": {
   "codemirror_mode": {
    "name": "ipython",
    "version": 3
   },
   "file_extension": ".py",
   "mimetype": "text/x-python",
   "name": "python",
   "nbconvert_exporter": "python",
   "pygments_lexer": "ipython3",
   "version": "3.9.12"
  }
 },
 "nbformat": 4,
 "nbformat_minor": 5
}
